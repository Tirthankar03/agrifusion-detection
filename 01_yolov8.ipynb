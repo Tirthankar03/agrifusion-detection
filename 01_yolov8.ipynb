{
 "cells": [
  {
   "cell_type": "code",
   "execution_count": 2,
   "metadata": {},
   "outputs": [],
   "source": [
    "from ultralytics import YOLO\n"
   ]
  },
  {
   "cell_type": "code",
   "execution_count": 3,
   "metadata": {},
   "outputs": [],
   "source": [
    "model = YOLO(\"/run/media/aun1x/New Volume1/final year project/runs/segment/take1_100e_seg/weights/best.pt\")"
   ]
  },
  {
   "cell_type": "code",
   "execution_count": 4,
   "metadata": {},
   "outputs": [],
   "source": [
    "# train_results = model.train(\n",
    "#     data=\"/run/media/aun1x/New Volume1/final year project/data/data.yaml\",  # path to dataset YAML\n",
    "#     epochs=100,  # number of training epochs\n",
    "#     imgsz=640,  # training image size\n",
    "#     amp=False,\n",
    "#     batch=16,\n",
    "#     name='take1_100e'\n",
    "# )\n"
   ]
  },
  {
   "cell_type": "code",
   "execution_count": 5,
   "metadata": {},
   "outputs": [],
   "source": [
    "# metrics = model.val()"
   ]
  },
  {
   "cell_type": "code",
   "execution_count": 6,
   "metadata": {},
   "outputs": [
    {
     "name": "stdout",
     "output_type": "stream",
     "text": [
      "\n",
      "image 1/1 /run/media/aun1x/New Volume1/final year project/data/valid/images/185_jpg.rf.cdf648d254acbb2afdf712df5dc1f75f.jpg: 640x640 4 crops, 9 weeds, 9.9ms\n",
      "Speed: 3.4ms preprocess, 9.9ms inference, 200.6ms postprocess per image at shape (1, 3, 640, 640)\n"
     ]
    }
   ],
   "source": [
    "results = model(\"/run/media/aun1x/New Volume1/final year project/data/valid/images/185_jpg.rf.cdf648d254acbb2afdf712df5dc1f75f.jpg\")\n",
    "results[0].show()"
   ]
  },
  {
   "cell_type": "code",
   "execution_count": null,
   "metadata": {},
   "outputs": [],
   "source": []
  }
 ],
 "metadata": {
  "kernelspec": {
   "display_name": "final_year",
   "language": "python",
   "name": "python3"
  },
  "language_info": {
   "codemirror_mode": {
    "name": "ipython",
    "version": 3
   },
   "file_extension": ".py",
   "mimetype": "text/x-python",
   "name": "python",
   "nbconvert_exporter": "python",
   "pygments_lexer": "ipython3",
   "version": "3.11.9"
  }
 },
 "nbformat": 4,
 "nbformat_minor": 2
}
